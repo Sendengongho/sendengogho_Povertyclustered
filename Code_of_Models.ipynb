{
 "cells": [
  {
   "cell_type": "markdown",
   "metadata": {
    "id": "bFv66trJg6KR"
   },
   "source": [
    "**CODES FOR THE MODELS/ALGOLITHMS**"
   ]
  },
  {
   "cell_type": "code",
   "execution_count": null,
   "metadata": {
    "id": "XTR9iSDGg3gV"
   },
   "outputs": [],
   "source": [
    "# Importing necessary libraries\n",
    "import numpy as np\n",
    "import pandas as pd\n",
    "import matplotlib.pyplot as plt\n",
    "from sklearn.decomposition import PCA\n",
    "from sklearn.metrics import accuracy_score, precision_score, recall_score, f1_score, jaccard_score, roc_auc_score, confusion_matrix, classification_report\n",
    "from sklearn.model_selection import cross_val_score, GridSearchCV\n",
    "from sklearn.pipeline import Pipeline\n",
    "from sklearn.preprocessing import StandardScaler\n",
    "from sklearn.svm import SVC\n",
    "from sklearn.model_selection import train_test_split"
   ]
  },
  {
   "cell_type": "code",
   "execution_count": null,
   "metadata": {
    "id": "TL8I6n_Ag5Yc"
   },
   "outputs": [],
   "source": [
    "# dataset=pd.read_csv(\"data/dataset with dummies.csv\")\n",
    "dataset=pd.read_excel(\"/content/DATASET2020/21.xlsx\")\n",
    "dataset.head()"
   ]
  },
  {
   "cell_type": "code",
   "execution_count": null,
   "metadata": {
    "id": "micqjUeshO9a"
   },
   "outputs": [],
   "source": [
    "# convert Povertystatus to categorical data type\n",
    "dataset['Povert status'] = dataset['Povert status'].astype('category')\n",
    "dataset.dtypes"
   ]
  },
  {
   "cell_type": "code",
   "execution_count": null,
   "metadata": {
    "id": "TMGEIrOohWFu"
   },
   "outputs": [],
   "source": [
    "# chack if there is Null values in our dataset\n",
    "dataset.isnull().sum()"
   ]
  },
  {
   "cell_type": "code",
   "execution_count": null,
   "metadata": {
    "id": "c3nfQ7IghZhr"
   },
   "outputs": [],
   "source": [
    "# categorical columns\n",
    "dataset['Povert status/Clustered poverty'].value_counts()"
   ]
  },
  {
   "cell_type": "code",
   "execution_count": null,
   "metadata": {
    "id": "wk8t3wmehixu"
   },
   "outputs": [],
   "source": [
    "# independent variable dataset\n",
    "X=dataset.loc[:, dataset.columns !='Povert status']\n",
    "columns=list(X.columns)\n",
    "# # dependent variable dataset\n",
    "y=dataset[['Povert status']]\n",
    "# putting values of independent variable on scale\n",
    "# FEATURE SCALING\n",
    "sc = StandardScaler()\n",
    "X = sc.fit_transform(X)\n",
    "# comvert again to dataframe\n",
    "X = pd.DataFrame(X, columns=columns)"
   ]
  },
  {
   "cell_type": "markdown",
   "metadata": {
    "id": "n2h1H3a_hxh7"
   },
   "source": [
    "**RBF Kernel**"
   ]
  },
  {
   "cell_type": "code",
   "execution_count": null,
   "metadata": {
    "id": "hTnqYfCAhsDp"
   },
   "outputs": [],
   "source": [
    "# Importing required libraries\n",
    "import numpy as np\n",
    "import pandas as pd\n",
    "import matplotlib.pyplot as plt\n",
    "from sklearn.decomposition import PCA, KernelPCA\n",
    "from sklearn.metrics import classification_report, roc_auc_score, jaccard_score\n",
    "from sklearn.model_selection import GridSearchCV, train_test_split\n",
    "from sklearn.svm import SVC\n",
    "from sklearn.metrics import roc_curve"
   ]
  },
  {
   "cell_type": "code",
   "execution_count": null,
   "metadata": {
    "id": "lkAt3e8Ch-Fw"
   },
   "outputs": [],
   "source": [
    "# Split the dataset into features and labels\n",
    "X = dataset.iloc[:, :-1].values\n",
    "y = dataset.iloc[:, -1].values"
   ]
  },
  {
   "cell_type": "code",
   "execution_count": null,
   "metadata": {
    "id": "UU4YBVnjiBGu"
   },
   "outputs": [],
   "source": [
    "# Split the dataset into training and testing sets\n",
    "X_train, X_test, y_train, y_test = train_test_split(X, y, test_size=0.3, stratify=y )"
   ]
  },
  {
   "cell_type": "code",
   "execution_count": null,
   "metadata": {
    "id": "3aCE_cooiHdf"
   },
   "outputs": [],
   "source": [
    "# Perform PCA on the training set\n",
    "pca = PCA(n_components=32)\n",
    "X_train_pca = pca.fit_transform(X_train)"
   ]
  },
  {
   "cell_type": "code",
   "execution_count": null,
   "metadata": {
    "id": "szSjLp2SiMMO"
   },
   "outputs": [],
   "source": [
    "# Perform hyperparameter tuning using GridSearchCV\n",
    "param_grid = {'C': [0.1,0.2,0.3,0.4,0.5,0.6 1, ], 'gamma': [0.1, 0,2, 0.4, 0.6, 0.8, 1, 4,8, 10]}\n",
    "grid = GridSearchCV(SVC(kernel='rbf'), param_grid=param_grid, cv=5)\n",
    "grid.fit(X_train_pca, y_train)"
   ]
  },
  {
   "cell_type": "code",
   "execution_count": null,
   "metadata": {
    "id": "oerzZV-uiS-t"
   },
   "outputs": [],
   "source": [
    "# Train the model with the best hyperparameters\n",
    "clf = SVC(kernel='rbf', C=grid.best_params_['C'], gamma=grid.best_params_['gamma'])\n",
    "clf.fit(X_train_pca, y_train)"
   ]
  },
  {
   "cell_type": "code",
   "execution_count": null,
   "metadata": {
    "id": "mmD4sSUQiXds"
   },
   "outputs": [],
   "source": [
    "# Perform cross-validation on the training set\n",
    "scores = cross_val_score(clf, X_train_pca, y_train, cv=5)"
   ]
  },
  {
   "cell_type": "code",
   "execution_count": null,
   "metadata": {
    "id": "imk7GyKAibmY"
   },
   "outputs": [],
   "source": [
    "# Introduce weighted categorical cross-entropy in the training dataset\n",
    "class_weights = {0: 1.0, 1: 0}\n",
    "clf_weighted = SVC(kernel='rbf', C=grid.best_params_['C'], gamma=grid.best_params_['gamma'], class_weight=class_weights)\n",
    "clf_weighted.fit(X_train_pca, y_train)"
   ]
  },
  {
   "cell_type": "code",
   "execution_count": null,
   "metadata": {
    "id": "O3Mi71k4ifAj"
   },
   "outputs": [],
   "source": [
    "# Predict the labels of the testing set using the trained model\n",
    "X_test_pca = pca.transform(X_test)\n",
    "y_pred = clf.predict(X_test_pca)\n",
    "y_pred_weighted = clf_weighted.predict(X_test_pca)"
   ]
  },
  {
   "cell_type": "code",
   "execution_count": null,
   "metadata": {
    "id": "z4w6OQswiiuw"
   },
   "outputs": [],
   "source": [
    "# Plot AUC score for multiple models for multiclass classification in Python\n",
    "roc_auc_score(y_test, y_pred_weighted)"
   ]
  },
  {
   "cell_type": "code",
   "execution_count": null,
   "metadata": {
    "id": "GxACQC0Qiltk"
   },
   "outputs": [],
   "source": [
    "# Plot ROC curve in Python\n",
    "fpr, tpr, thresholds = roc_curve(y_test, y_pred_weighted)\n",
    "plt.plot(fpr,tpr,label=\"Data 1\")\n",
    "plt.xlabel(\"False Positive Rate\")\n",
    "plt.ylabel(\"True Positive Rate\")\n",
    "plt.legend(loc=4)\n",
    "plt.show()\n",
    "\n",
    "# Plot Classification report in Python\n",
    "print(classification_report(y_test,y_pred_weighted))\n",
    "\n",
    "# Plot Jaccard score in Python\n",
    "jaccard_score(y_test,y_pred_weighted)"
   ]
  },
  {
   "cell_type": "code",
   "execution_count": null,
   "metadata": {
    "id": "Wj6AB43piqPP"
   },
   "outputs": [],
   "source": [
    "# Plot Jaccard score in Python\n",
    "jaccard_score(y_test,y_pred_weighted)"
   ]
  },
  {
   "cell_type": "markdown",
   "metadata": {
    "id": "NnvXGYZaiv0x"
   },
   "source": [
    "**linear Kernal**"
   ]
  },
  {
   "cell_type": "code",
   "execution_count": null,
   "metadata": {
    "id": "HUbJrdFGi9Ay"
   },
   "outputs": [],
   "source": [
    "# Importing required libraries\n",
    "import numpy as np\n",
    "import pandas as pd\n",
    "import matplotlib.pyplot as plt\n",
    "from sklearn.decomposition import PCA, KernelPCA\n",
    "from sklearn.metrics import classification_report, roc_auc_score, jaccard_score\n",
    "from sklearn.model_selection import GridSearchCV, train_test_split\n",
    "from sklearn.svm import SVC"
   ]
  },
  {
   "cell_type": "code",
   "execution_count": null,
   "metadata": {
    "id": "IAY-sZSxjBM1"
   },
   "outputs": [],
   "source": [
    "# Split the dataset into features and labels\n",
    "X = dataset.iloc[:, :-1].values\n",
    "y = dataset.iloc[:, -1].values"
   ]
  },
  {
   "cell_type": "code",
   "execution_count": null,
   "metadata": {
    "id": "lgDOhffAjF1N"
   },
   "outputs": [],
   "source": [
    "# Split the dataset into training and testing sets\n",
    "X_train, X_test, y_train, y_test = train_test_split(X, y, test_size=0.3, stratify=y)"
   ]
  },
  {
   "cell_type": "code",
   "execution_count": null,
   "metadata": {
    "id": "Rn_YKoH0jG5L"
   },
   "outputs": [],
   "source": [
    "# Perform PCA on the training set\n",
    "pca = PCA(n_components=32)\n",
    "X_train_pca = pca.fit_transform(X_train)"
   ]
  },
  {
   "cell_type": "code",
   "execution_count": null,
   "metadata": {
    "id": "hpmOhO5KjMfu"
   },
   "outputs": [],
   "source": [
    "# Perform hyperparameter tuning using GridSearchCV\n",
    "param_grid = {'C': [0.1,0.2,0.3,0.4,0.5,0.6 1, ], 'gamma': [0.1, 0,2, 0.4, 0.6, 0.8, 1, 4,8, 10]}\n",
    "grid = GridSearchCV(SVC(kernel='linear'), param_grid=param_grid, cv=5)\n",
    "grid.fit(X_train_pca, y_train)"
   ]
  },
  {
   "cell_type": "code",
   "execution_count": null,
   "metadata": {
    "id": "350LDPb8jNZe"
   },
   "outputs": [],
   "source": [
    "# Train the model with the best hyperparameters\n",
    "clf = SVC(kernel='linear', C=grid.best_params_['C'], gamma=grid.best_params_['gamma'])\n",
    "clf.fit(X_train_pca, y_train)"
   ]
  },
  {
   "cell_type": "code",
   "execution_count": null,
   "metadata": {
    "id": "T-2UehTNjxlU"
   },
   "outputs": [],
   "source": [
    "# Perform cross-validation on the training set\n",
    "scores = cross_val_score(clf, X_train_pca, y_train, cv=5)"
   ]
  },
  {
   "cell_type": "code",
   "execution_count": null,
   "metadata": {
    "id": "mFshNavEjyTB"
   },
   "outputs": [],
   "source": [
    "# Introduce weighted categorical cross-entropy in the training dataset\n",
    "class_weights = {0: 1.0, 1: 0}\n",
    "clf_weighted = SVC(kernel='linear', C=grid.best_params_['C'], gamma=grid.best_params_['gamma'], class_weight=class_weights)\n",
    "clf_weighted.fit(X_train_pca, y_train)"
   ]
  },
  {
   "cell_type": "code",
   "execution_count": null,
   "metadata": {
    "id": "Qi3Yu_T9j1d7"
   },
   "outputs": [],
   "source": [
    "# Predict the labels of the testing set using the trained model\n",
    "X_test_pca = pca.transform(X_test)\n",
    "y_pred = clf.predict(X_test_pca)\n",
    "y_pred_weighted = clf_weighted.predict(X_test_pca)"
   ]
  },
  {
   "cell_type": "code",
   "execution_count": null,
   "metadata": {
    "id": "dX1E0LBRj4xd"
   },
   "outputs": [],
   "source": [
    "Plot AUC score for binary classification in Python\n",
    "roc_auc_score(y_test, y_pred_weighted)"
   ]
  },
  {
   "cell_type": "code",
   "execution_count": null,
   "metadata": {
    "id": "fwJo5H87j-Hc"
   },
   "outputs": [],
   "source": [
    "# Plot AUC score for binary classification in Python\n",
    "roc_auc_score(y_test, y_pred_weighted)\n",
    "\n",
    "# Plot ROC curve in Python for binary classification\n",
    "fpr, tpr, thresholds = roc_curve(y_test, y_pred_weighted)\n",
    "plt.plot(fpr,tpr,label=\"data 1\")\n",
    "plt.xlabel(\"False Positive Rate\")\n",
    "plt.ylabel(\"True Positive Rate\")\n",
    "plt.legend(loc=4)\n",
    "plt.show()\n",
    "\n",
    "# Plot Classification report in Python for binary classification\n",
    "print(classification_report(y_test,y_pred_weighted))\n",
    "\n",
    "# Plot Jaccard score in Python for binary classification\n",
    "jaccard_score(y_test,y_pred_weighted)"
   ]
  },
  {
   "cell_type": "markdown",
   "metadata": {
    "id": "ZImVqBPBj_fk"
   },
   "source": [
    "**Polynomial Kernel**"
   ]
  },
  {
   "cell_type": "code",
   "execution_count": null,
   "metadata": {
    "id": "4AodgHa1kGX3"
   },
   "outputs": [],
   "source": [
    "# Importing required libraries\n",
    "import numpy as np\n",
    "import pandas as pd\n",
    "import matplotlib.pyplot as plt\n",
    "from sklearn.decomposition import PCA, KernelPCA\n",
    "from sklearn.metrics import classification_report, roc_auc_score, jaccard_score\n",
    "from sklearn.model_selection import GridSearchCV, train_test_split\n",
    "from sklearn.svm import SVC"
   ]
  },
  {
   "cell_type": "code",
   "execution_count": null,
   "metadata": {
    "id": "RSoag8vEmIUm"
   },
   "outputs": [],
   "source": [
    "# Split the dataset into features and labels\n",
    "X = dataset.iloc[:, :-1].values\n",
    "y = dataset.iloc[:, -1].values"
   ]
  },
  {
   "cell_type": "code",
   "execution_count": null,
   "metadata": {
    "id": "arZ6T5zQmLzH"
   },
   "outputs": [],
   "source": [
    "# Split the dataset into training and testing sets\n",
    "X_train, X_test, y_train, y_test = train_test_split(X, y, test_size=0.3, stratify=y)"
   ]
  },
  {
   "cell_type": "code",
   "execution_count": null,
   "metadata": {
    "id": "GVjXgSVEmO1-"
   },
   "outputs": [],
   "source": [
    "# Perform PCA on the training set\n",
    "pca = PCA(n_components=32)\n",
    "X_train_pca = pca.fit_transform(X_train)"
   ]
  },
  {
   "cell_type": "code",
   "execution_count": null,
   "metadata": {
    "id": "ZxK0KyOTmR2n"
   },
   "outputs": [],
   "source": [
    "# Perform hyperparameter tuning using GridSearchCV\n",
    "param_grid = {'C': [0.1,0.2,0.3,0.4,0.5,0.6 1, ], 'gamma': [0.1, 0,2, 0.4, 0.6, 0.8, 1, 4,8, 10]}\n",
    "grid = GridSearchCV(SVC(kernel='poly'), param_grid=param_grid, cv=5)\n",
    "grid.fit(X_train_pca, y_train)"
   ]
  },
  {
   "cell_type": "code",
   "execution_count": null,
   "metadata": {
    "id": "Pstxp3mcmViR"
   },
   "outputs": [],
   "source": [
    "# Train the model with the best hyperparameters\n",
    "clf = SVC(kernel='poly', C=grid.best_params_['C'], gamma=grid.best_params_['gamma'])\n",
    "clf.fit(X_train_pca, y_train)"
   ]
  },
  {
   "cell_type": "code",
   "execution_count": null,
   "metadata": {
    "id": "eBvyg2MCmZSi"
   },
   "outputs": [],
   "source": [
    "# Perform cross-validation on the training set\n",
    "scores = cross_val_score(clf, X_train_pca, y_train, cv=5)"
   ]
  },
  {
   "cell_type": "code",
   "execution_count": null,
   "metadata": {
    "id": "izxnX_9bmcrp"
   },
   "outputs": [],
   "source": [
    "# Introduce weighted categorical cross-entropy in the training dataset\n",
    "class_weights = {0: 1.0, 1: 0}\n",
    "clf_weighted = SVC(kernel='poly', C=grid.best_params_['C'], gamma=grid.best_params_['gamma'], class_weight=class_weights)\n",
    "clf_weighted.fit(X_train_pca, y_train)"
   ]
  },
  {
   "cell_type": "code",
   "execution_count": null,
   "metadata": {
    "id": "yAkU906Omfwx"
   },
   "outputs": [],
   "source": [
    "# Predict the labels of the testing set using the trained model\n",
    "X_test_pca = pca.transform(X_test)\n",
    "y_pred = clf.predict(X_test_pca)\n",
    "y_pred_weighted = clf_weighted.predict(X_test_pca)"
   ]
  },
  {
   "cell_type": "code",
   "execution_count": null,
   "metadata": {
    "id": "-nEAKTBrmjQ5"
   },
   "outputs": [],
   "source": [
    "# Plot AUC score for binary classification in Python\n",
    "roc_auc_score(y_test, y_pred_weighted)"
   ]
  },
  {
   "cell_type": "code",
   "execution_count": null,
   "metadata": {
    "id": "8JNuXiN2ml-G"
   },
   "outputs": [],
   "source": [
    "# Plot ROC curve in Python for binary classification\n",
    "fpr, tpr, thresholds = roc_curve(y_test, y_pred_weighted)\n",
    "plt.plot(fpr,tpr,label=\"data 1\")\n",
    "plt.xlabel(\"False Positive Rate\")\n",
    "plt.ylabel(\"True Positive Rate\")\n",
    "plt.legend(loc=4)\n",
    "plt.show()\n",
    "\n",
    "# Plot Classification report in Python for binary classification\n",
    "print(classification_report(y_test,y_pred_weighted))\n",
    "\n",
    "# Plot Jaccard score in Python for binary classification\n",
    "jaccard_score(y_test,y_pred_weighted)"
   ]
  },
  {
   "cell_type": "markdown",
   "metadata": {
    "id": "1-bwP2d-mpPZ"
   },
   "source": [
    "**XGBoosting**"
   ]
  },
  {
   "cell_type": "code",
   "execution_count": null,
   "metadata": {
    "id": "gFtNXwMbmwhC"
   },
   "outputs": [],
   "source": [
    "# Importing required libraries\n",
    "import numpy as np\n",
    "import pandas as pd\n",
    "import matplotlib.pyplot as plt\n",
    "from sklearn.decomposition import PCA\n",
    "from sklearn.metrics import classification_report, roc_auc_score, jaccard_score, matthews_corrcoef, confusion_matrix\n",
    "from sklearn.model_selection import GridSearchCV, train_test_split\n",
    "from xgboost import XGBClassifier"
   ]
  },
  {
   "cell_type": "code",
   "execution_count": null,
   "metadata": {
    "id": "l7MRxJsLm3Ea"
   },
   "outputs": [],
   "source": [
    "# Split the dataset into features and labels\n",
    "X = dataset.iloc[:, :-1].values\n",
    "y = dataset.iloc[:, -1].values"
   ]
  },
  {
   "cell_type": "code",
   "execution_count": null,
   "metadata": {
    "id": "PbpcDdUzm6Fc"
   },
   "outputs": [],
   "source": [
    "# Split the dataset into training and testing sets\n",
    "X_train, X_test, y_train, y_test = train_test_split(X, y, test_size=0.3, stratify=y)"
   ]
  },
  {
   "cell_type": "code",
   "execution_count": null,
   "metadata": {
    "id": "ZFoMjbjMm9C2"
   },
   "outputs": [],
   "source": [
    "# Perform PCA on the training set\n",
    "pca = PCA(n_components=32)\n",
    "X_train_pca = pca.fit_transform(X_train)"
   ]
  },
  {
   "cell_type": "code",
   "execution_count": null,
   "metadata": {
    "id": "d6Se6UMonA6c"
   },
   "outputs": [],
   "source": [
    "# Perform hyperparameter tuning using GridSearchCV\n",
    "param_grid = {'max_depth': [2,3, 4, 5, 6, 7,8], 'learning_rate': [0.1, 0.01, 0.2,0.3], 'n_estimators': [50, 100, 200, 250]}\n",
    "grid = GridSearchCV(XGBClassifier(), param_grid=param_grid, cv=5)\n",
    "grid.fit(X_train_pca, y_train)"
   ]
  },
  {
   "cell_type": "code",
   "execution_count": null,
   "metadata": {
    "id": "Fs5SjzDOnEJ9"
   },
   "outputs": [],
   "source": [
    "# Train the model with the best hyperparameters\n",
    "clf = XGBClassifier(max_depth=grid.best_params_['max_depth'], learning_rate=grid.best_params_['learning_rate'], n_estimators=grid.best_params_['n_estimators'])\n",
    "clf.fit(X_train_pca, y_train)"
   ]
  },
  {
   "cell_type": "code",
   "execution_count": null,
   "metadata": {
    "id": "AbsFQO1-nHCG"
   },
   "outputs": [],
   "source": [
    "# Perform cross-validation on the training set\n",
    "scores = cross_val_score(clf, X_train_pca, y_train, cv=5)"
   ]
  },
  {
   "cell_type": "code",
   "execution_count": null,
   "metadata": {
    "id": "DpY5RESWnJ2_"
   },
   "outputs": [],
   "source": [
    "# Introduce weighted categorical cross-entropy in the training dataset\n",
    "class_weights = {0: 1.0, 1: 0}\n",
    "clf_weighted = XGBClassifier(max_depth=grid.best_params_['max_depth'], learning_rate=grid.best_params_['learning_rate'], n_estimators=grid.best_params_['n_estimators'], scale_pos_weight=class_weights[1])\n",
    "clf_weighted.fit(X_train_pca, y_train)"
   ]
  },
  {
   "cell_type": "code",
   "execution_count": null,
   "metadata": {
    "id": "zvDpPsRnnNAd"
   },
   "outputs": [],
   "source": [
    "# Predict the labels of the testing set using the trained model\n",
    "X_test_pca = pca.transform(X_test)\n",
    "y_pred = clf.predict(X_test_pca)\n",
    "y_pred_weighted = clf_weighted.predict(X_test_pca)"
   ]
  },
  {
   "cell_type": "code",
   "execution_count": null,
   "metadata": {
    "id": "tv385eUPnQI8"
   },
   "outputs": [],
   "source": [
    "# Plot AUC score for binary classification in Python\n",
    "roc_auc_score(y_test, y_pred_weighted)"
   ]
  },
  {
   "cell_type": "code",
   "execution_count": null,
   "metadata": {
    "id": "t7emRr25nTN_"
   },
   "outputs": [],
   "source": [
    "# Plot ROC curve in Python for binary classification\n",
    "fpr, tpr, thresholds = roc_curve(y_test, y_pred_weighted)\n",
    "plt.plot(fpr,tpr,label=\"data 1\")\n",
    "plt.xlabel(\"False Positive Rate\")\n",
    "plt.ylabel(\"True Positive Rate\")\n",
    "plt.legend(loc=4)\n",
    "plt.show()"
   ]
  },
  {
   "cell_type": "code",
   "execution_count": null,
   "metadata": {
    "id": "O6fAcqM5nWdW"
   },
   "outputs": [],
   "source": [
    "# Plot Classification report in Python for binary classification\n",
    "print(classification_report(y_test,y_pred_weighted))\n",
    "\n",
    "# Plot Jaccard score in Python for binary classification\n",
    "jaccard_score(y_test,y_pred_weighted)\n",
    "\n",
    "# Plot Matthews Correlation Coefficient in Python for binary classification\n",
    "matthews_corrcoef(y_test,y_pred_weighted)\n",
    "\n",
    "# Plot confusion matrix in Python for binary classification\n",
    "confusion_matrix(y_test,y_pred_weighted)"
   ]
  },
  {
   "cell_type": "code",
   "execution_count": null,
   "metadata": {
    "id": "JEckUIEXnaEe"
   },
   "outputs": [],
   "source": [
    "# Plot Jaccard score in Python for binary classification\n",
    "jaccard_score(y_test,y_pred_weighted)"
   ]
  },
  {
   "cell_type": "code",
   "execution_count": null,
   "metadata": {
    "id": "GZxDn_gCncxA"
   },
   "outputs": [],
   "source": [
    "# Plot Matthews Correlation Coefficient in Python for binary classification\n",
    "matthews_corrcoef(y_test,y_pred_weighted)"
   ]
  },
  {
   "cell_type": "code",
   "execution_count": null,
   "metadata": {
    "id": "dRkmJt3ZnhKj"
   },
   "outputs": [],
   "source": [
    "# Plot confusion matrix in Python for binary classification\n",
    "confusion_matrix(y_test,y_pred_weighted)"
   ]
  },
  {
   "cell_type": "markdown",
   "metadata": {
    "id": "t26yZdiKnnfa"
   },
   "source": [
    "**Naive Bayesian model**"
   ]
  },
  {
   "cell_type": "code",
   "execution_count": null,
   "metadata": {
    "id": "_AaXUzovnkJA"
   },
   "outputs": [],
   "source": [
    "# Importing required libraries\n",
    "import numpy as np\n",
    "import pandas as pd\n",
    "import matplotlib.pyplot as plt\n",
    "from sklearn.decomposition import PCA\n",
    "from sklearn.metrics import classification_report, roc_auc_score, jaccard_score, matthews_corrcoef, confusion_matrix\n",
    "from sklearn.model_selection import GridSearchCV, train_test_split\n",
    "from sklearn.naive_bayes import GaussianNB"
   ]
  },
  {
   "cell_type": "code",
   "execution_count": null,
   "metadata": {
    "id": "U4izT5S2nwOS"
   },
   "outputs": [],
   "source": [
    "# Split the dataset into features and labels\n",
    "X = dataset.iloc[:, :-1].values\n",
    "y = dataset.iloc[:, -1].values"
   ]
  },
  {
   "cell_type": "code",
   "execution_count": null,
   "metadata": {
    "id": "DBxYgGR7nzNQ"
   },
   "outputs": [],
   "source": [
    "# Split the dataset into training and testing sets\n",
    "X_train, X_test, y_train, y_test = train_test_split(X, y, test_size=0.3, stratify=y)"
   ]
  },
  {
   "cell_type": "code",
   "execution_count": null,
   "metadata": {
    "id": "r5TiywLnn2AF"
   },
   "outputs": [],
   "source": [
    "# Perform PCA on the training set\n",
    "pca = PCA(n_components=32)\n",
    "X_train_pca = pca.fit_transform(X_train)"
   ]
  },
  {
   "cell_type": "code",
   "execution_count": null,
   "metadata": {
    "id": "gIjgLxoTn4n0"
   },
   "outputs": [],
   "source": [
    "# Perform hyperparameter tuning using GridSearchCV\n",
    "param_grid = {'var_smoothing': [1e-9, 1e-8, 1e-7, 1e-6, 1e-5, 1e-4, 1e-3, 1e-2, 1e-1]}\n",
    "grid = GridSearchCV(GaussianNB(), param_grid=param_grid, cv=5)\n",
    "grid.fit(X_train_pca, y_train)"
   ]
  },
  {
   "cell_type": "code",
   "execution_count": null,
   "metadata": {
    "id": "6nxU7Fe-n7ei"
   },
   "outputs": [],
   "source": [
    "# Train the model with the best hyperparameters\n",
    "clf = GaussianNB(var_smoothing=grid.best_params_['var_smoothing'])\n",
    "clf.fit(X_train_pca, y_train)"
   ]
  },
  {
   "cell_type": "code",
   "execution_count": null,
   "metadata": {
    "id": "OO0Mv-twoBV8"
   },
   "outputs": [],
   "source": [
    "# Perform cross-validation on the training set\n",
    "scores = cross_val_score(clf, X_train_pca, y_train, cv=5)"
   ]
  },
  {
   "cell_type": "code",
   "execution_count": null,
   "metadata": {
    "id": "MN3jEAvxoCK7"
   },
   "outputs": [],
   "source": [
    "# Introduce weighted categorical cross-entropy in the training dataset\n",
    "class_weights = {0: 1.0, 1: 0}\n",
    "clf_weighted = GaussianNB(var_smoothing=grid.best_params_['var_smoothing'])\n",
    "clf_weighted.fit(X_train_pca, y_train)"
   ]
  },
  {
   "cell_type": "code",
   "execution_count": null,
   "metadata": {
    "id": "Gzpz-duNoH6z"
   },
   "outputs": [],
   "source": [
    "# Predict the labels of the testing set using the trained model\n",
    "X_test_pca = pca.transform(X_test)\n",
    "y_pred = clf.predict(X_test_pca)\n",
    "y_pred_weighted = clf_weighted.predict(X_test_pca)"
   ]
  },
  {
   "cell_type": "code",
   "execution_count": null,
   "metadata": {
    "id": "KtPDr5T4oLC-"
   },
   "outputs": [],
   "source": [
    "# Plot AUC score for binary classification in Python\n",
    "roc_auc_score(y_test, y_pred_weighted)"
   ]
  },
  {
   "cell_type": "code",
   "execution_count": null,
   "metadata": {
    "id": "1ddczvlWoOGx"
   },
   "outputs": [],
   "source": [
    "# Plot ROC curve in Python for binary classification\n",
    "fpr, tpr, thresholds = roc_curve(y_test, y_pred_weighted)\n",
    "plt.plot(fpr,tpr,label=\"data 1\")\n",
    "plt.xlabel(\"False Positive Rate\")\n",
    "plt.ylabel(\"True Positive Rate\")\n",
    "plt.legend(loc=4)\n",
    "plt.show()"
   ]
  },
  {
   "cell_type": "code",
   "execution_count": null,
   "metadata": {
    "id": "PnhyCpUloSae"
   },
   "outputs": [],
   "source": [
    "# Plot Classification report in Python for binary classification\n",
    "print(classification_report(y_test,y_pred_weighted))"
   ]
  },
  {
   "cell_type": "code",
   "execution_count": null,
   "metadata": {
    "id": "dcnnFxhtoVkP"
   },
   "outputs": [],
   "source": [
    "# Plot Jaccard score in Python for binary classification\n",
    "jaccard_score(y_test,y_pred_weighted)"
   ]
  },
  {
   "cell_type": "code",
   "execution_count": null,
   "metadata": {
    "id": "aEeW3-WKoYLu"
   },
   "outputs": [],
   "source": [
    "# Plot Matthews Correlation Coefficient in Python for binary classification\n",
    "matthews_corrcoef(y_test,y_pred_weighted)"
   ]
  },
  {
   "cell_type": "code",
   "execution_count": null,
   "metadata": {
    "id": "wXqai28Aoa6x"
   },
   "outputs": [],
   "source": [
    "# Plot confusion matrix in Python for binary classification\n",
    "confusion_matrix(y_test,y_pred_weighted)"
   ]
  },
  {
   "cell_type": "markdown",
   "metadata": {
    "id": "0DOS28tboeNy"
   },
   "source": [
    "**K-Nearest neighbors classifier**"
   ]
  },
  {
   "cell_type": "code",
   "execution_count": null,
   "metadata": {
    "id": "3CPc3XTdokm2"
   },
   "outputs": [],
   "source": [
    "# Importing required libraries\n",
    "import numpy as np\n",
    "import pandas as pd\n",
    "import matplotlib.pyplot as plt\n",
    "from sklearn.decomposition import PCA\n",
    "from sklearn.metrics import classification_report, roc_auc_score, jaccard_score, matthews_corrcoef, confusion_matrix\n",
    "from sklearn.model_selection import GridSearchCV, train_test_split\n",
    "from sklearn.neighbors import KNeighborsClassifier"
   ]
  },
  {
   "cell_type": "code",
   "execution_count": null,
   "metadata": {
    "id": "TYnGVxGqzYQo"
   },
   "outputs": [],
   "source": [
    "# Split the dataset into features and labels\n",
    "X = dataset.iloc[:, :-1].values\n",
    "y = dataset.iloc[:, -1].values"
   ]
  },
  {
   "cell_type": "code",
   "execution_count": null,
   "metadata": {
    "id": "Y3EQmeXdze17"
   },
   "outputs": [],
   "source": [
    "# Split the dataset into training and testing sets\n",
    "X_train, X_test, y_train, y_test = train_test_split(X, y, test_size=0.3, stratify=y)"
   ]
  },
  {
   "cell_type": "code",
   "execution_count": null,
   "metadata": {
    "id": "1aYhIWr7zqEj"
   },
   "outputs": [],
   "source": [
    "# Perform PCA on the training set\n",
    "pca = PCA(n_components=32)\n",
    "X_train_pca = pca.fit_transform(X_train)"
   ]
  },
  {
   "cell_type": "code",
   "execution_count": null,
   "metadata": {
    "id": "MtBePJFqo_Jy"
   },
   "outputs": [],
   "source": [
    "# Perform hyperparameter tuning using GridSearchCV\n",
    "param_grid = {'n_neighbors': [3,4, 5,6,7], 'weights': ['uniform', 'distance']}\n",
    "grid = GridSearchCV(KNeighborsClassifier(), param_grid=param_grid, cv=5)\n",
    "grid.fit(X_train_pca, y_train)"
   ]
  },
  {
   "cell_type": "code",
   "execution_count": null,
   "metadata": {
    "id": "BG8PNqkbpIHq"
   },
   "outputs": [],
   "source": [
    "# Introduce weighted categorical cross-entropy in the training dataset\n",
    "class_weights = {0: 1.0, 1: 0}\n",
    "clf_weighted = KNeighborsClassifier(n_neighbors=grid.best_params_['n_neighbors'], weights=grid.best_params_['weights'])\n",
    "clf_weighted.fit(X_train_pca, y_train)"
   ]
  },
  {
   "cell_type": "code",
   "execution_count": null,
   "metadata": {
    "id": "3eXEFIHJpM8c"
   },
   "outputs": [],
   "source": [
    "# Train the model with the best hyperparameters\n",
    "clf = KNeighborsClassifier(n_neighbors=grid.best_params_['n_neighbors'], weights=grid.best_params_['weights'])\n",
    "clf.fit(X_train_pca, y_train)"
   ]
  },
  {
   "cell_type": "code",
   "execution_count": null,
   "metadata": {
    "id": "oiXGet9J0KvH"
   },
   "outputs": [],
   "source": [
    "# Perform cross-validation on the training set\n",
    "scores = cross_val_score(clf, X_train_pca, y_train, cv=5)"
   ]
  },
  {
   "cell_type": "code",
   "execution_count": null,
   "metadata": {
    "id": "inCa0KGR0UJ_"
   },
   "outputs": [],
   "source": [
    "# Predict the labels of the testing set using the trained model\n",
    "X_test_pca = pca.transform(X_test)\n",
    "y_pred = clf.predict(X_test_pca)\n",
    "y_pred_weighted = clf_weighted.predict(X_test_pca)"
   ]
  },
  {
   "cell_type": "code",
   "execution_count": null,
   "metadata": {
    "id": "_4hp_N8xJ1Xj"
   },
   "outputs": [],
   "source": [
    "# Plot AUC score for binary classification in Python\n",
    "roc_auc_score(y_test, y_pred_weighted)"
   ]
  },
  {
   "cell_type": "code",
   "execution_count": null,
   "metadata": {
    "id": "fuzC5njRJ3bt"
   },
   "outputs": [],
   "source": [
    "# Plot ROC curve in Python for binary classification\n",
    "fpr, tpr, thresholds = roc_curve(y_test, y_pred_weighted)\n",
    "plt.plot(fpr,tpr,label=\"data 1\")\n",
    "plt.xlabel(\"False Positive Rate\")\n",
    "plt.ylabel(\"True Positive Rate\")\n",
    "plt.legend(loc=4)\n",
    "plt.show()"
   ]
  },
  {
   "cell_type": "code",
   "execution_count": null,
   "metadata": {
    "id": "awWqVC-pJ8Z4"
   },
   "outputs": [],
   "source": [
    "# Plot Classification report in Python for binary classification\n",
    "print(classification_report(y_test,y_pred_weighted))"
   ]
  },
  {
   "cell_type": "code",
   "execution_count": null,
   "metadata": {
    "id": "vNnJlf7SpgiS"
   },
   "outputs": [],
   "source": [
    "# Plot Jaccard score in Python for binary classification\n",
    "jaccard_score(y_test,y_pred_weighted)"
   ]
  },
  {
   "cell_type": "code",
   "execution_count": null,
   "metadata": {
    "id": "nuw5eD9AphhT"
   },
   "outputs": [],
   "source": [
    "# Plot Matthews Correlation Coefficient in Python for binary classification\n",
    "matthews_corrcoef(y_test,y_pred_weighted)"
   ]
  },
  {
   "cell_type": "code",
   "execution_count": null,
   "metadata": {
    "id": "snZ_Iht2plQF"
   },
   "outputs": [],
   "source": [
    "# Plot confusion matrix in Python for binary classification\n",
    "confusion_matrix(y_test,y_pred_weighted)"
   ]
  },
  {
   "cell_type": "markdown",
   "metadata": {
    "id": "36ucNdlUpoB0"
   },
   "source": [
    "**Artificial Neural Network**"
   ]
  },
  {
   "cell_type": "code",
   "execution_count": null,
   "metadata": {
    "id": "utQ_39j-4cVw"
   },
   "outputs": [],
   "source": [
    "# Importing required libraries\n",
    "import numpy as np\n",
    "import pandas as pd\n",
    "import matplotlib.pyplot as plt\n",
    "from sklearn.decomposition import PCA\n",
    "from sklearn.metrics import classification_report, roc_auc_score, jaccard_score, matthews_corrcoef, confusion_matrix\n",
    "from sklearn.model_selection import GridSearchCV, train_test_split\n",
    "from tensorflow.keras import Sequential\n",
    "from tensorflow.keras.layers import Dense"
   ]
  },
  {
   "cell_type": "code",
   "execution_count": null,
   "metadata": {
    "id": "Yi9c08Rt4klA"
   },
   "outputs": [],
   "source": [
    "# Split the dataset into features and labels\n",
    "X = dataset.iloc[:, :-1].values\n",
    "y = dataset.iloc[:, -1].values"
   ]
  },
  {
   "cell_type": "code",
   "execution_count": null,
   "metadata": {
    "id": "LrjoE7Gd4riC"
   },
   "outputs": [],
   "source": [
    "# Split the dataset into training and testing sets\n",
    "X_train, X_test, y_train, y_test = train_test_split(X, y, test_size=0.3, stratify=y)"
   ]
  },
  {
   "cell_type": "code",
   "execution_count": null,
   "metadata": {
    "id": "--D5RWsW40PA"
   },
   "outputs": [],
   "source": [
    "# Perform PCA on the training set\n",
    "pca = PCA(n_components=32)\n",
    "X_train_pca = pca.fit_transform(X_train)"
   ]
  },
  {
   "cell_type": "code",
   "execution_count": null,
   "metadata": {
    "id": "t3cpPc_K469L"
   },
   "outputs": [],
   "source": [
    "# Define the model architecture\n",
    "model = Sequential()\n",
    "model.add(Dense(12, input_dim=2, activation='relu'))\n",
    "model.add(Dense(8, activation='relu'))\n",
    "model.add(Dense(1, activation='sigmoid'))"
   ]
  },
  {
   "cell_type": "code",
   "execution_count": null,
   "metadata": {
    "id": "bcD8CmaL5AeW"
   },
   "outputs": [],
   "source": [
    "# Compile the model\n",
    "model.compile(loss='binary_crossentropy', optimizer='adam', metrics=['accuracy'])"
   ]
  },
  {
   "cell_type": "code",
   "execution_count": null,
   "metadata": {
    "id": "k1tuxi9P5MKY"
   },
   "outputs": [],
   "source": [
    "# Perform hyperparameter tuning using GridSearchCV\n",
    "param_grid = {'batch_size': [10, 20], 'epochs': [50, 100]}\n",
    "grid = GridSearchCV(estimator=model, param_grid=param_grid, scoring='accuracy')\n",
    "#grid.fit(X_train_pca, y_train)"
   ]
  },
  {
   "cell_type": "code",
   "execution_count": null,
   "metadata": {
    "id": "rxl3ZuKZ5aCS"
   },
   "outputs": [],
   "source": [
    "# Train the model with the best hyperparameters\n",
    "clf = Sequential()\n",
    "clf.add(Dense(12, input_dim=2, activation='relu'))\n",
    "clf.add(Dense(8, activation='relu'))\n",
    "clf.add(Dense(1, activation='sigmoid'))\n",
    "clf.compile(loss='binary_crossentropy', optimizer='adam', metrics=['accuracy'])\n",
    "#clf.fit(X_train_pca, y_train, epochs=grid.best_params_['epochs'], batch_size=grid.best_params_['batch_size'])"
   ]
  },
  {
   "cell_type": "code",
   "execution_count": null,
   "metadata": {
    "id": "re4P70jS3mXF"
   },
   "outputs": [],
   "source": [
    "\n",
    "\n",
    "# Perform hyperparameter tuning using GridSearchCV\n",
    "param_grid = {'batch_size': [10, 20], 'epochs': [50, 100]}\n",
    "grid = GridSearchCV(estimator=model, param_grid=param_grid)\n",
    "grid.fit(X_train_pca, y_train)\n",
    "\n",
    "# Train the model with the best hyperparameters\n",
    "clf = Sequential()\n",
    "clf.add(Dense(12, input_dim=2, activation='relu'))\n",
    "clf.add(Dense(8, activation='relu'))\n",
    "clf.add(Dense(1, activation='sigmoid'))\n",
    "clf.compile(loss='binary_crossentropy', optimizer='adam', metrics=['accuracy'])\n",
    "clf.fit(X_train_pca, y_train, epochs=grid.best_params_['epochs'], batch_size=grid.best_params_['batch_size'])\n",
    "\n",
    "# Perform cross-validation on the training set\n",
    "scores = cross_val_score(clf, X_train_pca, y_train, cv=5)\n",
    "\n",
    "# Introduce weighted categorical cross-entropy in the training dataset\n",
    "class_weights = {0: 1.0, 1: 0}\n",
    "clf_weighted = Sequential()\n",
    "clf_weighted.add(Dense(12, input_dim=2, activation='relu'))\n",
    "clf_weighted.add(Dense(8, activation='relu'))\n",
    "clf_weighted.add(Dense(1, activation='sigmoid'))\n",
    "clf_weighted.compile(loss='binary_crossentropy', optimizer='adam', metrics=['accuracy'])\n",
    "clf_weighted.fit(X_train_pca, y_train, epochs=grid.best_params_['epochs'], batch_size=grid.best_params_['batch_size'], class_weight=class_weights)\n",
    "\n",
    "# Predict the labels of the testing set using the trained model\n",
    "X_test_pca = pca.transform(X_test)\n",
    "y_pred_weighted = clf_weighted.predict_classes(X_test_pca)\n",
    "\n",
    "# Plot AUC score for binary classification in Python\n",
    "print(f\"AUC Score: {roc_auc_score(y_test,y_pred_weighted)}\")\n",
    "\n",
    "# Plot ROC curve in Python for binary classification\n",
    "fpr,tpr,_=roc_curve(y_test,y_pred_weighted)\n",
    "plt.plot(fpr,tpr,label=\"data 1\")\n",
    "plt.xlabel(\"False Positive Rate\")\n",
    "plt.ylabel(\"True Positive Rate\")\n",
    "plt.legend(loc=4)\n",
    "plt.show()\n",
    "\n",
    "# Plot Classification report in Python for binary classification\n",
    "print(classification_report(y_test,y_pred_weighted))\n",
    "\n",
    "# Plot Jaccard score in Python for binary classification\n",
    "print(f\"Jaccard Score: {jaccard_score(y_test,y_pred_weighted)}\")\n",
    "\n",
    "# Plot Matthews Correlation Coefficient in Python for binary classification\n",
    "print(f\"Matthews Correlation Coefficient: {matthews_corrcoef(y_test,y_pred_weighted)}\")\n",
    "\n",
    "# Plot confusion matrix in Python for binary classification\n",
    "print(f\"Confusion Matrix:\\n{confusion_matrix(y_test,y_pred_weighted)}\")\n"
   ]
  },
  {
   "cell_type": "markdown",
   "metadata": {
    "id": "IGL_r1TxqDdn"
   },
   "source": [
    "**Gradient boosting**"
   ]
  },
  {
   "cell_type": "code",
   "execution_count": null,
   "metadata": {
    "id": "yF1ZqZIVqIke"
   },
   "outputs": [],
   "source": []
  },
  {
   "cell_type": "code",
   "execution_count": null,
   "metadata": {
    "id": "26gMjrHs7SJB"
   },
   "outputs": [],
   "source": [
    "# Importing required libraries\n",
    "import numpy as np\n",
    "import pandas as pd\n",
    "import matplotlib.pyplot as plt\n",
    "from sklearn.decomposition import PCA\n",
    "from sklearn.metrics import classification_report, roc_auc_score, jaccard_score, matthews_corrcoef, confusion_matrix\n",
    "from sklearn.model_selection import GridSearchCV, train_test_split\n",
    "from sklearn.ensemble import GradientBoostingClassifier"
   ]
  },
  {
   "cell_type": "code",
   "execution_count": null,
   "metadata": {
    "id": "pVJXiCB97YkS"
   },
   "outputs": [],
   "source": [
    "\n",
    "# Split the dataset into features and labels\n",
    "X = dataset.iloc[:, :-1].values\n",
    "y = dataset.iloc[:, -1].values"
   ]
  },
  {
   "cell_type": "code",
   "execution_count": null,
   "metadata": {
    "id": "Wz_ZYu077ik2"
   },
   "outputs": [],
   "source": [
    "# Split the dataset into training and testing sets\n",
    "X_train, X_test, y_train, y_test = train_test_split(X, y, test_size=0.3, stratify=y)"
   ]
  },
  {
   "cell_type": "code",
   "execution_count": null,
   "metadata": {
    "id": "LqSENuQr7s5z"
   },
   "outputs": [],
   "source": [
    "\n",
    "# Perform PCA on the training set\n",
    "pca = PCA(n_components=32)\n",
    "X_train_pca = pca.fit_transform(X_train)"
   ]
  },
  {
   "cell_type": "code",
   "execution_count": null,
   "metadata": {
    "id": "ik2c9QhbqRBE"
   },
   "outputs": [],
   "source": [
    "# Perform hyperparameter tuning using GridSearchCV\n",
    "param_grid = {'n_estimators': [100, 200, 250, 230,300, 400], 'max_depth': [3, 5, 6,7,8], 'learning_rate': [0.01, 0.1, 0.2,0.3]}\n",
    "grid = GridSearchCV(GradientBoostingClassifier(), param_grid=param_grid, cv=5)\n",
    "grid.fit(X_train_pca, y_train)"
   ]
  },
  {
   "cell_type": "code",
   "execution_count": null,
   "metadata": {
    "id": "hDF1K0viqT-9"
   },
   "outputs": [],
   "source": [
    "# Train the model with the best hyperparameters\n",
    "clf = GradientBoostingClassifier(n_estimators=grid.best_params_['n_estimators'], max_depth=grid.best_params_['max_depth'], learning_rate=grid.best_params_['learning_rate'])\n",
    "clf.fit(X_train_pca, y_train)"
   ]
  },
  {
   "cell_type": "code",
   "execution_count": null,
   "metadata": {
    "id": "O59oLEAVqXHs"
   },
   "outputs": [],
   "source": [
    "# Perform cross-validation on the training set\n",
    "scores = cross_val_score(clf, X_train_pca, y_train, cv=5)"
   ]
  },
  {
   "cell_type": "code",
   "execution_count": null,
   "metadata": {
    "id": "FsaCnIQ4qeBf"
   },
   "outputs": [],
   "source": [
    "# Introduce weighted categorical cross-entropy in the training dataset\n",
    "class_weights = {0: 1.0, 1: 0}\n",
    "clf_weighted = GradientBoostingClassifier(n_estimators=grid.best_params_['n_estimators'], max_depth=grid.best_params_['max_depth'], learning_rate=grid.best_params_['learning_rate'])\n",
    "clf_weighted.fit(X_train_pca, y_train)"
   ]
  },
  {
   "cell_type": "code",
   "execution_count": null,
   "metadata": {
    "id": "N4eRiqi-qhJ6"
   },
   "outputs": [],
   "source": [
    "# Predict the labels of the testing set using the trained model\n",
    "X_test_pca = pca.transform(X_test)\n",
    "y_pred_weighted = clf_weighted.predict(X_test_pca)"
   ]
  },
  {
   "cell_type": "code",
   "execution_count": null,
   "metadata": {
    "id": "QZsoKAPdqktp"
   },
   "outputs": [],
   "source": [
    "# Plot AUC score for binary classification in Python\n",
    "print(f\"AUC Score: {roc_auc_score(y_test,y_pred_weighted)}\")"
   ]
  },
  {
   "cell_type": "code",
   "execution_count": null,
   "metadata": {
    "id": "w48-AHOLqlob"
   },
   "outputs": [],
   "source": [
    "# Plot ROC curve in Python for binary classification\n",
    "fpr,tpr,_=roc_curve(y_test,y_pred_weighted)\n",
    "plt.plot(fpr,tpr,label=\"data 1\")\n",
    "plt.xlabel(\"False Positive Rate\")\n",
    "plt.ylabel(\"True Positive Rate\")\n",
    "plt.legend(loc=4)\n",
    "plt.show()"
   ]
  },
  {
   "cell_type": "code",
   "execution_count": null,
   "metadata": {
    "id": "cBZupbi1qq37"
   },
   "outputs": [],
   "source": [
    "# Plot Classification report in Python for binary classification\n",
    "print(classification_report(y_test,y_pred_weighted))"
   ]
  },
  {
   "cell_type": "code",
   "execution_count": null,
   "metadata": {
    "id": "EQDB6WWYqsAa"
   },
   "outputs": [],
   "source": [
    "# Plot Jaccard score in Python for binary classification\n",
    "print(f\"Jaccard Score: {jaccard_score(y_test,y_pred_weighted)}\")"
   ]
  },
  {
   "cell_type": "code",
   "execution_count": null,
   "metadata": {
    "id": "r-5aURHyqvQ8"
   },
   "outputs": [],
   "source": [
    "# Plot Matthews Correlation Coefficient in Python for binary classification\n",
    "print(f\"Matthews Correlation Coefficient: {matthews_corrcoef(y_test,y_pred_weighted)}\")"
   ]
  },
  {
   "cell_type": "code",
   "execution_count": null,
   "metadata": {
    "id": "lrKNBYriq0gb"
   },
   "outputs": [],
   "source": [
    "# Plot confusion matrix in Python for binary classification\n",
    "print(f\"Confusion Matrix:\\n{confusion_matrix(y_test,y_pred_weighted)}\")"
   ]
  },
  {
   "cell_type": "markdown",
   "metadata": {
    "id": "KzH6BuTHq5fa"
   },
   "source": [
    "**Logistic regression**"
   ]
  },
  {
   "cell_type": "code",
   "execution_count": null,
   "metadata": {
    "id": "9iuE89v1q7-z"
   },
   "outputs": [],
   "source": []
  },
  {
   "cell_type": "code",
   "execution_count": null,
   "metadata": {
    "id": "NF4cVonP-BrF"
   },
   "outputs": [],
   "source": [
    "# Importing required libraries\n",
    "import numpy as np\n",
    "import pandas as pd\n",
    "import matplotlib.pyplot as plt\n",
    "from sklearn.decomposition import PCA\n",
    "from sklearn.metrics import classification_report, roc_auc_score, jaccard_score, matthews_corrcoef, confusion_matrix\n",
    "from sklearn.model_selection import GridSearchCV, train_test_split\n",
    "from sklearn.linear_model import LogisticRegression"
   ]
  },
  {
   "cell_type": "code",
   "execution_count": null,
   "metadata": {
    "id": "4TwxXZvV-Jj5"
   },
   "outputs": [],
   "source": [
    "# Split the dataset into features and labels\n",
    "X = dataset.iloc[:, :-1].values\n",
    "y = dataset.iloc[:, -1].values"
   ]
  },
  {
   "cell_type": "code",
   "execution_count": null,
   "metadata": {
    "id": "LxZV9n5T-P8v"
   },
   "outputs": [],
   "source": [
    "# Split the dataset into training and testing sets\n",
    "X_train, X_test, y_train, y_test = train_test_split(X, y, test_size=0.3, stratify=y)"
   ]
  },
  {
   "cell_type": "code",
   "execution_count": null,
   "metadata": {
    "id": "MJva_H6h-Von"
   },
   "outputs": [],
   "source": [
    "# Perform PCA on the training set\n",
    "pca = PCA(n_components=32)\n",
    "X_train_pca = pca.fit_transform(X_train)"
   ]
  },
  {
   "cell_type": "code",
   "execution_count": null,
   "metadata": {
    "id": "deLaGwv5rE3U"
   },
   "outputs": [],
   "source": [
    "# Perform hyperparameter tuning using GridSearchCV\n",
    "param_grid = {'C': [0.1,0.2,0.3,0.6,0.8, 1,4,6,8, 10], 'penalty': ['l1', 'l2']}\n",
    "grid = GridSearchCV(LogisticRegression(), param_grid=param_grid, cv=5)\n",
    "grid.fit(X_train_pca, y_train)"
   ]
  },
  {
   "cell_type": "code",
   "execution_count": null,
   "metadata": {
    "id": "z5BtGzE9rLYV"
   },
   "outputs": [],
   "source": [
    "# Train the model with the best hyperparameters\n",
    "clf = LogisticRegression(C=grid.best_params_['C'], penalty=grid.best_params_['penalty'])\n",
    "clf.fit(X_train_pca, y_train)"
   ]
  },
  {
   "cell_type": "code",
   "execution_count": null,
   "metadata": {
    "id": "IJe06vwi-m4J"
   },
   "outputs": [],
   "source": [
    "# Perform cross-validation on the training set\n",
    "scores = cross_val_score(clf, X_train_pca, y_train, cv=5)"
   ]
  },
  {
   "cell_type": "code",
   "execution_count": null,
   "metadata": {
    "id": "bOiZdKaoLhEb"
   },
   "outputs": [],
   "source": [
    "# Introduce weighted categorical cross-entropy in the training dataset\n",
    "class_weights = {0: 1.0, 1: 0}\n",
    "clf_weighted = LogisticRegression(C=grid.best_params_['C'], penalty=grid.best_params_['penalty'], class_weight=class_weights)\n",
    "clf_weighted.fit(X_train_pca, y_train)"
   ]
  },
  {
   "cell_type": "code",
   "execution_count": null,
   "metadata": {
    "id": "LrQetXzd-wZh"
   },
   "outputs": [],
   "source": [
    "# Predict the labels of the testing set using the trained model\n",
    "X_test_pca = pca.transform(X_test)\n",
    "y_pred_weighted = clf_weighted.predict(X_test_pca)"
   ]
  },
  {
   "cell_type": "code",
   "execution_count": null,
   "metadata": {
    "id": "dv2IN_srrRQd"
   },
   "outputs": [],
   "source": [
    "# Plot AUC score for binary classification in Python\n",
    "print(f\"AUC Score: {roc_auc_score(y_test,y_pred_weighted)}\")"
   ]
  },
  {
   "cell_type": "code",
   "execution_count": null,
   "metadata": {
    "id": "pSdEGfFCrVpm"
   },
   "outputs": [],
   "source": [
    "# Plot ROC curve in Python for binary classification\n",
    "fpr,tpr,_=roc_curve(y_test,y_pred_weighted)\n",
    "plt.plot(fpr,tpr,label=\"data 1\")\n",
    "plt.xlabel(\"False Positive Rate\")\n",
    "plt.ylabel(\"True Positive Rate\")\n",
    "plt.legend(loc=4)\n",
    "plt.show()"
   ]
  },
  {
   "cell_type": "code",
   "execution_count": null,
   "metadata": {
    "id": "IV9v-npwrWsg"
   },
   "outputs": [],
   "source": [
    "# Plot Classification report in Python for binary classification\n",
    "print(classification_report(y_test,y_pred_weighted))"
   ]
  },
  {
   "cell_type": "code",
   "execution_count": null,
   "metadata": {
    "id": "XPmieqyyrZmw"
   },
   "outputs": [],
   "source": [
    "# Plot Jaccard score in Python for binary classification\n",
    "print(f\"Jaccard Score: {jaccard_score(y_test,y_pred_weighted)}\")"
   ]
  },
  {
   "cell_type": "code",
   "execution_count": null,
   "metadata": {
    "id": "ys_YS7vwre7U"
   },
   "outputs": [],
   "source": [
    " Plot Matthews Correlation Coefficient in Python for binary classification\n",
    "print(f\"Matthews Correlation Coefficient: {matthews_corrcoef(y_test,y_pred_weighted)}\")"
   ]
  },
  {
   "cell_type": "code",
   "execution_count": null,
   "metadata": {
    "id": "lqYjk3f1rft2"
   },
   "outputs": [],
   "source": [
    "# Plot confusion matrix in Python for binary classification\n",
    "print(f\"Confusion Matrix:\\n{confusion_matrix(y_test,y_pred_weighted)}\")"
   ]
  },
  {
   "cell_type": "markdown",
   "metadata": {
    "id": "DnaiSxeyrm72"
   },
   "source": [
    "**Decision tree**"
   ]
  },
  {
   "cell_type": "code",
   "execution_count": null,
   "metadata": {
    "id": "gBEeBYasABwF"
   },
   "outputs": [],
   "source": [
    "# Importing required libraries\n",
    "import numpy as np\n",
    "import pandas as pd\n",
    "import matplotlib.pyplot as plt\n",
    "from sklearn.decomposition import PCA\n",
    "from sklearn.metrics import classification_report, roc_auc_score, jaccard_score, matthews_corrcoef, confusion_matrix\n",
    "from sklearn.model_selection import GridSearchCV, train_test_split\n",
    "from sklearn.tree import DecisionTreeClassifier"
   ]
  },
  {
   "cell_type": "code",
   "execution_count": null,
   "metadata": {
    "id": "Jx1ynN4QAIEL"
   },
   "outputs": [],
   "source": [
    "# Split the dataset into features and labels\n",
    "X = dataset.iloc[:, :-1].values\n",
    "y = dataset.iloc[:, -1].values"
   ]
  },
  {
   "cell_type": "code",
   "execution_count": null,
   "metadata": {
    "id": "0ZNiLcMiAO3J"
   },
   "outputs": [],
   "source": [
    "# Split the dataset into training and testing sets\n",
    "X_train, X_test, y_train, y_test = train_test_split(X, y, test_size=0.3, stratify=y)"
   ]
  },
  {
   "cell_type": "code",
   "execution_count": null,
   "metadata": {
    "id": "gBVJdTfvAWci"
   },
   "outputs": [],
   "source": [
    "# Perform PCA on the training set\n",
    "pca = PCA(n_components=32)\n",
    "X_train_pca = pca.fit_transform(X_train)"
   ]
  },
  {
   "cell_type": "code",
   "execution_count": null,
   "metadata": {
    "id": "BCKmLkOnr7hj"
   },
   "outputs": [],
   "source": [
    "# Perform hyperparameter tuning using GridSearchCV\n",
    "param_grid = {'max_depth': [3, 4, 5, 6, 8, 9], 'min_samples_split': [2,3, 4, 5, 6, 7]}\n",
    "grid = GridSearchCV(DecisionTreeClassifier(), param_grid=param_grid, cv=5)\n",
    "grid.fit(X_train_pca, y_train)"
   ]
  },
  {
   "cell_type": "code",
   "execution_count": null,
   "metadata": {
    "id": "iryDfTm4r-Pq"
   },
   "outputs": [],
   "source": [
    "# Train the model with the best hyperparameters\n",
    "clf = DecisionTreeClassifier(max_depth=grid.best_params_['max_depth'], min_samples_split=grid.best_params_['min_samples_split'])\n",
    "clf.fit(X_train_pca, y_train)"
   ]
  },
  {
   "cell_type": "code",
   "execution_count": null,
   "metadata": {
    "id": "J6KhEG4jAqUA"
   },
   "outputs": [],
   "source": [
    "# Perform cross-validation on the training set\n",
    "scores = cross_val_score(clf, X_train_pca, y_train, cv=5)"
   ]
  },
  {
   "cell_type": "code",
   "execution_count": null,
   "metadata": {
    "id": "hjGwRL8NsBbu"
   },
   "outputs": [],
   "source": [
    "# Introduce weighted categorical cross-entropy in the training dataset\n",
    "class_weights = {0: 1.0, 1: 0}\n",
    "clf_weighted = DecisionTreeClassifier(max_depth=grid.best_params_['max_depth'], min_samples_split=grid.best_params_['min_samples_split'], class_weight=class_weights)\n",
    "clf_weighted.fit(X_train_pca, y_train)"
   ]
  },
  {
   "cell_type": "code",
   "execution_count": null,
   "metadata": {
    "id": "SCa2AixiA7qU"
   },
   "outputs": [],
   "source": [
    "# Predict the labels of the testing set using the trained model\n",
    "X_test_pca = pca.transform(X_test)\n",
    "y_pred_weighted = clf_weighted.predict(X_test_pca)"
   ]
  },
  {
   "cell_type": "code",
   "execution_count": null,
   "metadata": {
    "id": "9A5EV70isFqC"
   },
   "outputs": [],
   "source": [
    "# Plot AUC score for binary classification in Python\n",
    "print(f\"AUC Score: {roc_auc_score(y_test,y_pred_weighted)}\")"
   ]
  },
  {
   "cell_type": "code",
   "execution_count": null,
   "metadata": {
    "id": "H47BFEVuL2pR"
   },
   "outputs": [],
   "source": [
    "# Plot ROC curve in Python for binary classification\n",
    "fpr,tpr,_=roc_curve(y_test,y_pred_weighted)\n",
    "plt.plot(fpr,tpr,label=\"data 1\")\n",
    "plt.xlabel(\"False Positive Rate\")\n",
    "plt.ylabel(\"True Positive Rate\")\n",
    "plt.legend(loc=4)\n",
    "plt.show()"
   ]
  },
  {
   "cell_type": "code",
   "execution_count": null,
   "metadata": {
    "id": "StYK_ccKsImb"
   },
   "outputs": [],
   "source": [
    "# Plot Classification report in Python for binary classification\n",
    "print(classification_report(y_test,y_pred_weighted))"
   ]
  },
  {
   "cell_type": "code",
   "execution_count": null,
   "metadata": {
    "id": "Rgiz8koOsLAS"
   },
   "outputs": [],
   "source": [
    "# Plot Jaccard score in Python for binary classification\n",
    "print(f\"Jaccard Score: {jaccard_score(y_test,y_pred_weighted)}\")"
   ]
  },
  {
   "cell_type": "code",
   "execution_count": null,
   "metadata": {
    "id": "6IBJqPSRsOp2"
   },
   "outputs": [],
   "source": [
    "# Plot Matthews Correlation Coefficient in Python for binary classification\n",
    "print(f\"Matthews Correlation Coefficient: {matthews_corrcoef(y_test,y_pred_weighted)}\")"
   ]
  },
  {
   "cell_type": "code",
   "execution_count": null,
   "metadata": {
    "id": "VZAxUKr5sUvc"
   },
   "outputs": [],
   "source": [
    "# Plot confusion matrix in Python for binary classification\n",
    "print(f\"Confusion Matrix:\\n{confusion_matrix(y_test,y_pred_weighted)}\")"
   ]
  },
  {
   "cell_type": "markdown",
   "metadata": {
    "id": "YZ5C2ATJscpN"
   },
   "source": [
    "**Random forest**"
   ]
  },
  {
   "cell_type": "code",
   "execution_count": null,
   "metadata": {
    "id": "qlecEHYHCXse"
   },
   "outputs": [],
   "source": [
    "# Importing required libraries\n",
    "import numpy as np\n",
    "import pandas as pd\n",
    "import matplotlib.pyplot as plt\n",
    "from sklearn.decomposition import PCA\n",
    "from sklearn.metrics import classification_report, roc_auc_score, jaccard_score, matthews_corrcoef, confusion_matrix\n",
    "from sklearn.model_selection import GridSearchCV, train_test_split\n",
    "from sklearn.ensemble import RandomForestClassifier"
   ]
  },
  {
   "cell_type": "code",
   "execution_count": null,
   "metadata": {
    "id": "UlmbbzcoCdqa"
   },
   "outputs": [],
   "source": [
    "# Split the dataset into features and labels\n",
    "X = dataset.iloc[:, :-1].values\n",
    "y = dataset.iloc[:, -1].values"
   ]
  },
  {
   "cell_type": "code",
   "execution_count": null,
   "metadata": {
    "id": "8edDcqexChXC"
   },
   "outputs": [],
   "source": [
    "# Split the dataset into training and testing sets\n",
    "X_train, X_test, y_train, y_test = train_test_split(X, y, test_size=0.3, stratify=y)"
   ]
  },
  {
   "cell_type": "code",
   "execution_count": null,
   "metadata": {
    "id": "oRqgvW8ECnmp"
   },
   "outputs": [],
   "source": [
    "# Perform PCA on the training set\n",
    "pca = PCA(n_components=32)\n",
    "X_train_pca = pca.fit_transform(X_train)"
   ]
  },
  {
   "cell_type": "code",
   "execution_count": null,
   "metadata": {
    "id": "YGLW5aiIs8mm"
   },
   "outputs": [],
   "source": [
    "# Perform hyperparameter tuning using GridSearchCV\n",
    "param_grid = {'n_estimators': [100, 200, 250, 300, 400], 'max_depth': [3, 4, 5, 6,7,8], 'class_weight': ['balanced', {0: 1.0, 1: 0}]}\n",
    "grid = GridSearchCV(RandomForestClassifier(), param_grid=param_grid, cv=5)\n",
    "grid.fit(X_train_pca, y_train)"
   ]
  },
  {
   "cell_type": "code",
   "execution_count": null,
   "metadata": {
    "id": "QQvYir8Xs_iu"
   },
   "outputs": [],
   "source": [
    "# Train the model with the best hyperparameters\n",
    "clf = RandomForestClassifier(n_estimators=grid.best_params_['n_estimators'], max_depth=grid.best_params_['max_depth'], class_weight=grid.best_params_['class_weight'])\n",
    "clf.fit(X_train_pca, y_train)"
   ]
  },
  {
   "cell_type": "code",
   "execution_count": null,
   "metadata": {
    "id": "Rwld1TzXCxfQ"
   },
   "outputs": [],
   "source": [
    "# Perform cross-validation on the training set\n",
    "scores = cross_val_score(clf, X_train_pca, y_train, cv=5)"
   ]
  },
  {
   "cell_type": "code",
   "execution_count": null,
   "metadata": {
    "id": "sbah5CwMCx4T"
   },
   "outputs": [],
   "source": [
    "# Predict the labels of the testing set using the trained model\n",
    "X_test_pca = pca.transform(X_test)\n",
    "y_pred_weighted = clf.predict(X_test_pca)"
   ]
  },
  {
   "cell_type": "code",
   "execution_count": null,
   "metadata": {
    "id": "jVxWb5eqtDH4"
   },
   "outputs": [],
   "source": [
    "# Plot AUC score for binary classification in Python\n",
    "print(f\"AUC Score: {roc_auc_score(y_test,y_pred_weighted)}\")"
   ]
  },
  {
   "cell_type": "code",
   "execution_count": null,
   "metadata": {
    "id": "N_TWk8FdME53"
   },
   "outputs": [],
   "source": [
    "# Plot ROC curve in Python for binary classification\n",
    "fpr,tpr,_=roc_curve(y_test,y_pred_weighted)\n",
    "plt.plot(fpr,tpr,label=\"data 1\")\n",
    "plt.xlabel(\"False Positive Rate\")\n",
    "plt.ylabel(\"True Positive Rate\")\n",
    "plt.legend(loc=4)\n",
    "plt.show()"
   ]
  },
  {
   "cell_type": "code",
   "execution_count": null,
   "metadata": {
    "id": "kUpxEBoytGUL"
   },
   "outputs": [],
   "source": [
    "# Plot Classification report in Python for binary classification\n",
    "print(classification_report(y_test,y_pred_weighted))"
   ]
  },
  {
   "cell_type": "code",
   "execution_count": null,
   "metadata": {
    "id": "PY74OWdmtJWW"
   },
   "outputs": [],
   "source": [
    "# Plot Jaccard score in Python for binary classification\n",
    "print(f\"Jaccard Score: {jaccard_score(y_test,y_pred_weighted)}\")"
   ]
  },
  {
   "cell_type": "code",
   "execution_count": null,
   "metadata": {
    "id": "qZdj362ztNiO"
   },
   "outputs": [],
   "source": [
    "# Plot Matthews Correlation Coefficient in Python for binary classification\n",
    "print(f\"Matthews Correlation Coefficient: {matthews_corrcoef(y_test,y_pred_weighted)}\")"
   ]
  },
  {
   "cell_type": "code",
   "execution_count": null,
   "metadata": {
    "id": "YToxPuAQtQ7v"
   },
   "outputs": [],
   "source": [
    "# Plot confusion matrix in Python for binary classification\n",
    "print(f\"Confusion Matrix:\\n{confusion_matrix(y_test,y_pred_weighted)}\")"
   ]
  }
 ],
 "metadata": {
  "colab": {
   "provenance": []
  },
  "kernelspec": {
   "display_name": "Python 3 (ipykernel)",
   "language": "python",
   "name": "python3"
  },
  "language_info": {
   "codemirror_mode": {
    "name": "ipython",
    "version": 3
   },
   "file_extension": ".py",
   "mimetype": "text/x-python",
   "name": "python",
   "nbconvert_exporter": "python",
   "pygments_lexer": "ipython3",
   "version": "3.13.3"
  }
 },
 "nbformat": 4,
 "nbformat_minor": 4
}
